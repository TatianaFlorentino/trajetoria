{
  "nbformat": 4,
  "nbformat_minor": 0,
  "metadata": {
    "colab": {
      "name": "Overview_python.ipynb",
      "provenance": []
    },
    "kernelspec": {
      "name": "python3",
      "display_name": "Python 3"
    }
  },
  "cells": [
    {
      "cell_type": "code",
      "metadata": {
        "colab": {
          "base_uri": "https://localhost:8080/"
        },
        "id": "5Se9fJ3VFV1N",
        "outputId": "fd7b8717-3e58-42b2-cbeb-5716b3df923e"
      },
      "source": [
        "\n",
        "\n",
        "print (\"Hello world\")"
      ],
      "execution_count": 2,
      "outputs": [
        {
          "output_type": "stream",
          "text": [
            "Hello world\n"
          ],
          "name": "stdout"
        }
      ]
    },
    {
      "cell_type": "code",
      "metadata": {
        "colab": {
          "base_uri": "https://localhost:8080/"
        },
        "id": "s5RT8KcUGYA_",
        "outputId": "b31ebcc1-25fc-4cc9-836c-bbdb2f72f844"
      },
      "source": [
        "frase = (\"hello world\")\n",
        "print (frase)"
      ],
      "execution_count": 3,
      "outputs": [
        {
          "output_type": "stream",
          "text": [
            "hello world\n"
          ],
          "name": "stdout"
        }
      ]
    },
    {
      "cell_type": "markdown",
      "metadata": {
        "id": "I6OULr9oIQS8"
      },
      "source": [
        "**Usando operadores aritméticos**\n",
        "\n",
        "\n",
        "*   Adição\n",
        "*   Subtração\n",
        "*   Divisão\n",
        "*   Multiplicação\n",
        "*   Ordem de precedência\n",
        "\n",
        "\n",
        "\n"
      ]
    },
    {
      "cell_type": "code",
      "metadata": {
        "colab": {
          "base_uri": "https://localhost:8080/"
        },
        "id": "qyebsRxdJR2m",
        "outputId": "11968737-8ce5-4208-bdcf-f18c694ec9cc"
      },
      "source": [
        "\n",
        "6+4\n"
      ],
      "execution_count": 5,
      "outputs": [
        {
          "output_type": "execute_result",
          "data": {
            "text/plain": [
              "10"
            ]
          },
          "metadata": {
            "tags": []
          },
          "execution_count": 5
        }
      ]
    },
    {
      "cell_type": "code",
      "metadata": {
        "colab": {
          "base_uri": "https://localhost:8080/"
        },
        "id": "B1JvrMWrIz4C",
        "outputId": "fd9cefc7-e9de-4404-b963-09c1a45180aa"
      },
      "source": [
        "800-677"
      ],
      "execution_count": 6,
      "outputs": [
        {
          "output_type": "execute_result",
          "data": {
            "text/plain": [
              "123"
            ]
          },
          "metadata": {
            "tags": []
          },
          "execution_count": 6
        }
      ]
    },
    {
      "cell_type": "code",
      "metadata": {
        "colab": {
          "base_uri": "https://localhost:8080/"
        },
        "id": "2izxwY4NK8jR",
        "outputId": "7a9b9ad9-c18a-4c67-d9e2-d022c00410c0"
      },
      "source": [
        "2000/200"
      ],
      "execution_count": 7,
      "outputs": [
        {
          "output_type": "execute_result",
          "data": {
            "text/plain": [
              "10.0"
            ]
          },
          "metadata": {
            "tags": []
          },
          "execution_count": 7
        }
      ]
    },
    {
      "cell_type": "code",
      "metadata": {
        "colab": {
          "base_uri": "https://localhost:8080/"
        },
        "id": "GQwOXLSYLBXV",
        "outputId": "3f9c3bfd-3b20-4dcb-b8ef-29572603e055"
      },
      "source": [
        "7 * 7"
      ],
      "execution_count": 8,
      "outputs": [
        {
          "output_type": "execute_result",
          "data": {
            "text/plain": [
              "49"
            ]
          },
          "metadata": {
            "tags": []
          },
          "execution_count": 8
        }
      ]
    },
    {
      "cell_type": "code",
      "metadata": {
        "colab": {
          "base_uri": "https://localhost:8080/"
        },
        "id": "OxuhNXv1LIn_",
        "outputId": "c3213a6a-513f-45ad-a170-9bf9ff2e0afa"
      },
      "source": [
        "7 ** 2"
      ],
      "execution_count": 9,
      "outputs": [
        {
          "output_type": "execute_result",
          "data": {
            "text/plain": [
              "49"
            ]
          },
          "metadata": {
            "tags": []
          },
          "execution_count": 9
        }
      ]
    }
  ]
}