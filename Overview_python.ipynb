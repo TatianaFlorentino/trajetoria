{
  "nbformat": 4,
  "nbformat_minor": 0,
  "metadata": {
    "colab": {
      "name": "Overview_python.ipynb",
      "provenance": [],
      "authorship_tag": "ABX9TyOEPgBw1Y3/PFJKYcRUFyE3",
      "include_colab_link": true
    },
    "kernelspec": {
      "name": "python3",
      "display_name": "Python 3"
    }
  },
  "cells": [
    {
      "cell_type": "markdown",
      "metadata": {
        "id": "view-in-github",
        "colab_type": "text"
      },
      "source": [
        "<a href=\"https://colab.research.google.com/github/TatianaFlorentino/trajetoria/blob/main/Overview_python.ipynb\" target=\"_parent\"><img src=\"https://colab.research.google.com/assets/colab-badge.svg\" alt=\"Open In Colab\"/></a>"
      ]
    },
    {
      "cell_type": "code",
      "metadata": {
        "colab": {
          "base_uri": "https://localhost:8080/"
        },
        "id": "5Se9fJ3VFV1N",
        "outputId": "fd7b8717-3e58-42b2-cbeb-5716b3df923e"
      },
      "source": [
        "\n",
        "\n",
        "print (\"Hello world\")"
      ],
      "execution_count": 2,
      "outputs": [
        {
          "output_type": "stream",
          "text": [
            "Hello world\n"
          ],
          "name": "stdout"
        }
      ]
    },
    {
      "cell_type": "code",
      "metadata": {
        "colab": {
          "base_uri": "https://localhost:8080/"
        },
        "id": "s5RT8KcUGYA_",
        "outputId": "b31ebcc1-25fc-4cc9-836c-bbdb2f72f844"
      },
      "source": [
        "frase = (\"hello world\")\n",
        "print (frase)"
      ],
      "execution_count": 3,
      "outputs": [
        {
          "output_type": "stream",
          "text": [
            "hello world\n"
          ],
          "name": "stdout"
        }
      ]
    },
    {
      "cell_type": "markdown",
      "metadata": {
        "id": "I6OULr9oIQS8"
      },
      "source": [
        "**Usando operadores aritméticos**\n",
        "\n",
        "\n",
        "*   Adição\n",
        "*   Subtração\n",
        "*   Divisão\n",
        "*   Multiplicação\n",
        "*   Ordem de precedência\n",
        "\n",
        "\n",
        "\n"
      ]
    },
    {
      "cell_type": "code",
      "metadata": {
        "colab": {
          "base_uri": "https://localhost:8080/"
        },
        "id": "qyebsRxdJR2m",
        "outputId": "11968737-8ce5-4208-bdcf-f18c694ec9cc"
      },
      "source": [
        "\n",
        "6+4\n"
      ],
      "execution_count": 5,
      "outputs": [
        {
          "output_type": "execute_result",
          "data": {
            "text/plain": [
              "10"
            ]
          },
          "metadata": {
            "tags": []
          },
          "execution_count": 5
        }
      ]
    },
    {
      "cell_type": "code",
      "metadata": {
        "id": "B1JvrMWrIz4C"
      },
      "source": [
        ""
      ],
      "execution_count": null,
      "outputs": []
    }
  ]
}